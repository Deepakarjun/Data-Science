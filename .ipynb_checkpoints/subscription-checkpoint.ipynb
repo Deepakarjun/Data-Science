{
 "cells": [
  {
   "cell_type": "code",
   "execution_count": 7,
   "metadata": {},
   "outputs": [],
   "source": [
    "import numpy as np\n",
    "import pandas as pd"
   ]
  },
  {
   "cell_type": "code",
   "execution_count": 64,
   "metadata": {},
   "outputs": [],
   "source": [
    "df =pd.read_csv('/home/lt-194/Downloads/subscription.csv')"
   ]
  },
  {
   "cell_type": "code",
   "execution_count": 68,
   "metadata": {},
   "outputs": [
    {
     "data": {
      "text/html": [
       "<div>\n",
       "<style scoped>\n",
       "    .dataframe tbody tr th:only-of-type {\n",
       "        vertical-align: middle;\n",
       "    }\n",
       "\n",
       "    .dataframe tbody tr th {\n",
       "        vertical-align: top;\n",
       "    }\n",
       "\n",
       "    .dataframe thead th {\n",
       "        text-align: right;\n",
       "    }\n",
       "</style>\n",
       "<table border=\"1\" class=\"dataframe\">\n",
       "  <thead>\n",
       "    <tr style=\"text-align: right;\">\n",
       "      <th></th>\n",
       "      <th>Email</th>\n",
       "      <th>Name</th>\n",
       "      <th>ID</th>\n",
       "      <th>Status</th>\n",
       "    </tr>\n",
       "  </thead>\n",
       "  <tbody>\n",
       "    <tr>\n",
       "      <th>489</th>\n",
       "      <td>alok.bhatgunaki@sap.com</td>\n",
       "      <td>NaN</td>\n",
       "      <td>accessemails_161737</td>\n",
       "      <td>unenrolled</td>\n",
       "    </tr>\n",
       "    <tr>\n",
       "      <th>490</th>\n",
       "      <td>archana.chilukuri@sap.com</td>\n",
       "      <td>NaN</td>\n",
       "      <td>accessemails_161738</td>\n",
       "      <td>unenrolled</td>\n",
       "    </tr>\n",
       "    <tr>\n",
       "      <th>491</th>\n",
       "      <td>ashok.choudhry@sap.com</td>\n",
       "      <td>NaN</td>\n",
       "      <td>accessemails_161739</td>\n",
       "      <td>unenrolled</td>\n",
       "    </tr>\n",
       "    <tr>\n",
       "      <th>492</th>\n",
       "      <td>will.htun@sap.com</td>\n",
       "      <td>NaN</td>\n",
       "      <td>accessemails_161740</td>\n",
       "      <td>unenrolled</td>\n",
       "    </tr>\n",
       "    <tr>\n",
       "      <th>493</th>\n",
       "      <td>sahana.pailoor@sap.com</td>\n",
       "      <td>NaN</td>\n",
       "      <td>accessemails_161741</td>\n",
       "      <td>unenrolled</td>\n",
       "    </tr>\n",
       "    <tr>\n",
       "      <th>...</th>\n",
       "      <td>...</td>\n",
       "      <td>...</td>\n",
       "      <td>...</td>\n",
       "      <td>...</td>\n",
       "    </tr>\n",
       "    <tr>\n",
       "      <th>2435</th>\n",
       "      <td>tiger.jiang@sap.com</td>\n",
       "      <td>Tiger Jiang</td>\n",
       "      <td>learners_91925</td>\n",
       "      <td>enrolled</td>\n",
       "    </tr>\n",
       "    <tr>\n",
       "      <th>2438</th>\n",
       "      <td>tim.ke@sap.com</td>\n",
       "      <td>Tim Ke</td>\n",
       "      <td>learners_91466</td>\n",
       "      <td>enrolled</td>\n",
       "    </tr>\n",
       "    <tr>\n",
       "      <th>2481</th>\n",
       "      <td>vahid.bisadi@sap.com</td>\n",
       "      <td>Vahid Bisadi</td>\n",
       "      <td>learners_87403</td>\n",
       "      <td>enrolled</td>\n",
       "    </tr>\n",
       "    <tr>\n",
       "      <th>2490</th>\n",
       "      <td>vijay.bandi@sap.com</td>\n",
       "      <td>Vijay Bandi</td>\n",
       "      <td>learners_88841</td>\n",
       "      <td>enrolled</td>\n",
       "    </tr>\n",
       "    <tr>\n",
       "      <th>2498</th>\n",
       "      <td>vladimir.tomic@sap.com</td>\n",
       "      <td>Vladimir Tomic</td>\n",
       "      <td>learners_87984</td>\n",
       "      <td>enrolled</td>\n",
       "    </tr>\n",
       "  </tbody>\n",
       "</table>\n",
       "<p>145 rows × 4 columns</p>\n",
       "</div>"
      ],
      "text/plain": [
       "                          Email            Name                   ID  \\\n",
       "489     alok.bhatgunaki@sap.com             NaN  accessemails_161737   \n",
       "490   archana.chilukuri@sap.com             NaN  accessemails_161738   \n",
       "491      ashok.choudhry@sap.com             NaN  accessemails_161739   \n",
       "492           will.htun@sap.com             NaN  accessemails_161740   \n",
       "493      sahana.pailoor@sap.com             NaN  accessemails_161741   \n",
       "...                         ...             ...                  ...   \n",
       "2435        tiger.jiang@sap.com     Tiger Jiang       learners_91925   \n",
       "2438             tim.ke@sap.com          Tim Ke       learners_91466   \n",
       "2481       vahid.bisadi@sap.com    Vahid Bisadi       learners_87403   \n",
       "2490        vijay.bandi@sap.com     Vijay Bandi       learners_88841   \n",
       "2498     vladimir.tomic@sap.com  Vladimir Tomic       learners_87984   \n",
       "\n",
       "          Status  \n",
       "489   unenrolled  \n",
       "490   unenrolled  \n",
       "491   unenrolled  \n",
       "492   unenrolled  \n",
       "493   unenrolled  \n",
       "...          ...  \n",
       "2435    enrolled  \n",
       "2438    enrolled  \n",
       "2481    enrolled  \n",
       "2490    enrolled  \n",
       "2498    enrolled  \n",
       "\n",
       "[145 rows x 4 columns]"
      ]
     },
     "execution_count": 68,
     "metadata": {},
     "output_type": "execute_result"
    }
   ],
   "source": [
    "df= df[df.apply(lambda row: row.astype(str).str.contains('@sap.com').any(), axis=1)]\n",
    "df"
   ]
  },
  {
   "cell_type": "code",
   "execution_count": 66,
   "metadata": {},
   "outputs": [],
   "source": [
    "unr = df[(df.Status == 'unenrolled')]"
   ]
  },
  {
   "cell_type": "code",
   "execution_count": 67,
   "metadata": {},
   "outputs": [],
   "source": [
    "enr = df[(df.Status == 'enrolled')]"
   ]
  },
  {
   "cell_type": "code",
   "execution_count": 61,
   "metadata": {},
   "outputs": [],
   "source": [
    "arr =np.array(df)"
   ]
  },
  {
   "cell_type": "code",
   "execution_count": 74,
   "metadata": {},
   "outputs": [
    {
     "data": {
      "text/html": [
       "<div>\n",
       "<style scoped>\n",
       "    .dataframe tbody tr th:only-of-type {\n",
       "        vertical-align: middle;\n",
       "    }\n",
       "\n",
       "    .dataframe tbody tr th {\n",
       "        vertical-align: top;\n",
       "    }\n",
       "\n",
       "    .dataframe thead th {\n",
       "        text-align: right;\n",
       "    }\n",
       "</style>\n",
       "<table border=\"1\" class=\"dataframe\">\n",
       "  <thead>\n",
       "    <tr style=\"text-align: right;\">\n",
       "      <th></th>\n",
       "      <th>Email</th>\n",
       "      <th>Name</th>\n",
       "      <th>ID</th>\n",
       "      <th>Status</th>\n",
       "    </tr>\n",
       "  </thead>\n",
       "  <tbody>\n",
       "    <tr>\n",
       "      <th>2490</th>\n",
       "      <td>vijay.bandi@sap.com</td>\n",
       "      <td>Vijay Bandi</td>\n",
       "      <td>learners_88841</td>\n",
       "      <td>enrolled</td>\n",
       "    </tr>\n",
       "  </tbody>\n",
       "</table>\n",
       "</div>"
      ],
      "text/plain": [
       "                    Email         Name              ID    Status\n",
       "2490  vijay.bandi@sap.com  Vijay Bandi  learners_88841  enrolled"
      ]
     },
     "execution_count": 74,
     "metadata": {},
     "output_type": "execute_result"
    }
   ],
   "source": [
    "df.loc[df['Email']=='vijay.bandi@sap.com']"
   ]
  },
  {
   "cell_type": "code",
   "execution_count": 76,
   "metadata": {},
   "outputs": [
    {
     "data": {
      "text/plain": [
       "489       alok.bhatgunaki@sap.com\n",
       "490     archana.chilukuri@sap.com\n",
       "491        ashok.choudhry@sap.com\n",
       "492             will.htun@sap.com\n",
       "493        sahana.pailoor@sap.com\n",
       "                  ...            \n",
       "2435          tiger.jiang@sap.com\n",
       "2438               tim.ke@sap.com\n",
       "2481         vahid.bisadi@sap.com\n",
       "2490          vijay.bandi@sap.com\n",
       "2498       vladimir.tomic@sap.com\n",
       "Name: Email, Length: 145, dtype: object"
      ]
     },
     "execution_count": 76,
     "metadata": {},
     "output_type": "execute_result"
    }
   ],
   "source": [
    "df['Email']"
   ]
  },
  {
   "cell_type": "code",
   "execution_count": 77,
   "metadata": {},
   "outputs": [
    {
     "data": {
      "text/html": [
       "<div>\n",
       "<style scoped>\n",
       "    .dataframe tbody tr th:only-of-type {\n",
       "        vertical-align: middle;\n",
       "    }\n",
       "\n",
       "    .dataframe tbody tr th {\n",
       "        vertical-align: top;\n",
       "    }\n",
       "\n",
       "    .dataframe thead th {\n",
       "        text-align: right;\n",
       "    }\n",
       "</style>\n",
       "<table border=\"1\" class=\"dataframe\">\n",
       "  <thead>\n",
       "    <tr style=\"text-align: right;\">\n",
       "      <th></th>\n",
       "      <th>Email</th>\n",
       "      <th>Name</th>\n",
       "      <th>ID</th>\n",
       "      <th>Status</th>\n",
       "    </tr>\n",
       "  </thead>\n",
       "  <tbody>\n",
       "    <tr>\n",
       "      <th>489</th>\n",
       "      <td>alok.bhatgunaki@sap.com</td>\n",
       "      <td>NaN</td>\n",
       "      <td>accessemails_161737</td>\n",
       "      <td>unenrolled</td>\n",
       "    </tr>\n",
       "    <tr>\n",
       "      <th>490</th>\n",
       "      <td>archana.chilukuri@sap.com</td>\n",
       "      <td>NaN</td>\n",
       "      <td>accessemails_161738</td>\n",
       "      <td>unenrolled</td>\n",
       "    </tr>\n",
       "    <tr>\n",
       "      <th>491</th>\n",
       "      <td>ashok.choudhry@sap.com</td>\n",
       "      <td>NaN</td>\n",
       "      <td>accessemails_161739</td>\n",
       "      <td>unenrolled</td>\n",
       "    </tr>\n",
       "    <tr>\n",
       "      <th>492</th>\n",
       "      <td>will.htun@sap.com</td>\n",
       "      <td>NaN</td>\n",
       "      <td>accessemails_161740</td>\n",
       "      <td>unenrolled</td>\n",
       "    </tr>\n",
       "    <tr>\n",
       "      <th>493</th>\n",
       "      <td>sahana.pailoor@sap.com</td>\n",
       "      <td>NaN</td>\n",
       "      <td>accessemails_161741</td>\n",
       "      <td>unenrolled</td>\n",
       "    </tr>\n",
       "    <tr>\n",
       "      <th>...</th>\n",
       "      <td>...</td>\n",
       "      <td>...</td>\n",
       "      <td>...</td>\n",
       "      <td>...</td>\n",
       "    </tr>\n",
       "    <tr>\n",
       "      <th>2435</th>\n",
       "      <td>tiger.jiang@sap.com</td>\n",
       "      <td>Tiger Jiang</td>\n",
       "      <td>learners_91925</td>\n",
       "      <td>enrolled</td>\n",
       "    </tr>\n",
       "    <tr>\n",
       "      <th>2438</th>\n",
       "      <td>tim.ke@sap.com</td>\n",
       "      <td>Tim Ke</td>\n",
       "      <td>learners_91466</td>\n",
       "      <td>enrolled</td>\n",
       "    </tr>\n",
       "    <tr>\n",
       "      <th>2481</th>\n",
       "      <td>vahid.bisadi@sap.com</td>\n",
       "      <td>Vahid Bisadi</td>\n",
       "      <td>learners_87403</td>\n",
       "      <td>enrolled</td>\n",
       "    </tr>\n",
       "    <tr>\n",
       "      <th>2490</th>\n",
       "      <td>vijay.bandi@sap.com</td>\n",
       "      <td>Vijay Bandi</td>\n",
       "      <td>learners_88841</td>\n",
       "      <td>enrolled</td>\n",
       "    </tr>\n",
       "    <tr>\n",
       "      <th>2498</th>\n",
       "      <td>vladimir.tomic@sap.com</td>\n",
       "      <td>Vladimir Tomic</td>\n",
       "      <td>learners_87984</td>\n",
       "      <td>enrolled</td>\n",
       "    </tr>\n",
       "  </tbody>\n",
       "</table>\n",
       "<p>145 rows × 4 columns</p>\n",
       "</div>"
      ],
      "text/plain": [
       "                          Email            Name                   ID  \\\n",
       "489     alok.bhatgunaki@sap.com             NaN  accessemails_161737   \n",
       "490   archana.chilukuri@sap.com             NaN  accessemails_161738   \n",
       "491      ashok.choudhry@sap.com             NaN  accessemails_161739   \n",
       "492           will.htun@sap.com             NaN  accessemails_161740   \n",
       "493      sahana.pailoor@sap.com             NaN  accessemails_161741   \n",
       "...                         ...             ...                  ...   \n",
       "2435        tiger.jiang@sap.com     Tiger Jiang       learners_91925   \n",
       "2438             tim.ke@sap.com          Tim Ke       learners_91466   \n",
       "2481       vahid.bisadi@sap.com    Vahid Bisadi       learners_87403   \n",
       "2490        vijay.bandi@sap.com     Vijay Bandi       learners_88841   \n",
       "2498     vladimir.tomic@sap.com  Vladimir Tomic       learners_87984   \n",
       "\n",
       "          Status  \n",
       "489   unenrolled  \n",
       "490   unenrolled  \n",
       "491   unenrolled  \n",
       "492   unenrolled  \n",
       "493   unenrolled  \n",
       "...          ...  \n",
       "2435    enrolled  \n",
       "2438    enrolled  \n",
       "2481    enrolled  \n",
       "2490    enrolled  \n",
       "2498    enrolled  \n",
       "\n",
       "[145 rows x 4 columns]"
      ]
     },
     "execution_count": 77,
     "metadata": {},
     "output_type": "execute_result"
    }
   ],
   "source": [
    "df"
   ]
  },
  {
   "cell_type": "code",
   "execution_count": 80,
   "metadata": {},
   "outputs": [],
   "source": [
    "df2 =pd.read_csv('/home/lt-194/Downloads/subscription.csv')"
   ]
  },
  {
   "cell_type": "code",
   "execution_count": 82,
   "metadata": {},
   "outputs": [
    {
     "data": {
      "text/plain": [
       "0                       *@activision.com\n",
       "1                      *@alhgroup.com.au\n",
       "2                              *@anz.com\n",
       "3                          *@anzgcis.com\n",
       "4                             *@bigw.com\n",
       "                      ...               \n",
       "2557    yusuke.yokoyama.j4m@jp.denso.com\n",
       "2558           yuta.yasugahira@jcblab.jp\n",
       "2559                    zanella@mayo.edu\n",
       "2560             zbigniew.baska@pkobp.pl\n",
       "2561               zpeschke@blizzard.com\n",
       "Name: Email, Length: 2562, dtype: object"
      ]
     },
     "execution_count": 82,
     "metadata": {},
     "output_type": "execute_result"
    }
   ],
   "source": [
    "df2['Email']"
   ]
  },
  {
   "cell_type": "code",
   "execution_count": 83,
   "metadata": {},
   "outputs": [
    {
     "data": {
      "text/plain": [
       "True    145\n",
       "Name: Email, dtype: int64"
      ]
     },
     "execution_count": 83,
     "metadata": {},
     "output_type": "execute_result"
    }
   ],
   "source": [
    "df['Email'].isin(df2['Email']).value_counts()"
   ]
  },
  {
   "cell_type": "code",
   "execution_count": 85,
   "metadata": {},
   "outputs": [],
   "source": [
    "df3=df['Email'].isin(df2['Email'])"
   ]
  },
  {
   "cell_type": "code",
   "execution_count": 86,
   "metadata": {},
   "outputs": [
    {
     "data": {
      "text/plain": [
       "489     True\n",
       "490     True\n",
       "491     True\n",
       "492     True\n",
       "493     True\n",
       "        ... \n",
       "2435    True\n",
       "2438    True\n",
       "2481    True\n",
       "2490    True\n",
       "2498    True\n",
       "Name: Email, Length: 145, dtype: bool"
      ]
     },
     "execution_count": 86,
     "metadata": {},
     "output_type": "execute_result"
    }
   ],
   "source": [
    "df3"
   ]
  },
  {
   "cell_type": "code",
   "execution_count": null,
   "metadata": {},
   "outputs": [],
   "source": []
  }
 ],
 "metadata": {
  "kernelspec": {
   "display_name": "Python 3",
   "language": "python",
   "name": "python3"
  },
  "language_info": {
   "codemirror_mode": {
    "name": "ipython",
    "version": 3
   },
   "file_extension": ".py",
   "mimetype": "text/x-python",
   "name": "python",
   "nbconvert_exporter": "python",
   "pygments_lexer": "ipython3",
   "version": "3.7.6"
  }
 },
 "nbformat": 4,
 "nbformat_minor": 4
}
