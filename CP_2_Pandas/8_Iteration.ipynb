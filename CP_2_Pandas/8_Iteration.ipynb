{
 "cells": [
  {
   "cell_type": "markdown",
   "metadata": {},
   "source": [
    "# Iteration"
   ]
  },
  {
   "cell_type": "code",
   "execution_count": 1,
   "metadata": {},
   "outputs": [],
   "source": [
    "import numpy as np\n",
    "import pandas as pd"
   ]
  },
  {
   "cell_type": "code",
   "execution_count": 2,
   "metadata": {},
   "outputs": [
    {
     "data": {
      "text/html": [
       "<div>\n",
       "<style scoped>\n",
       "    .dataframe tbody tr th:only-of-type {\n",
       "        vertical-align: middle;\n",
       "    }\n",
       "\n",
       "    .dataframe tbody tr th {\n",
       "        vertical-align: top;\n",
       "    }\n",
       "\n",
       "    .dataframe thead th {\n",
       "        text-align: right;\n",
       "    }\n",
       "</style>\n",
       "<table border=\"1\" class=\"dataframe\">\n",
       "  <thead>\n",
       "    <tr style=\"text-align: right;\">\n",
       "      <th></th>\n",
       "      <th>col1</th>\n",
       "      <th>col2</th>\n",
       "      <th>col3</th>\n",
       "    </tr>\n",
       "  </thead>\n",
       "  <tbody>\n",
       "    <tr>\n",
       "      <th>0</th>\n",
       "      <td>0.393095</td>\n",
       "      <td>0.559659</td>\n",
       "      <td>-0.226794</td>\n",
       "    </tr>\n",
       "    <tr>\n",
       "      <th>1</th>\n",
       "      <td>-1.039872</td>\n",
       "      <td>0.309888</td>\n",
       "      <td>1.280371</td>\n",
       "    </tr>\n",
       "    <tr>\n",
       "      <th>2</th>\n",
       "      <td>0.955168</td>\n",
       "      <td>-0.710642</td>\n",
       "      <td>-0.073768</td>\n",
       "    </tr>\n",
       "    <tr>\n",
       "      <th>3</th>\n",
       "      <td>-0.980163</td>\n",
       "      <td>-1.457998</td>\n",
       "      <td>0.359291</td>\n",
       "    </tr>\n",
       "  </tbody>\n",
       "</table>\n",
       "</div>"
      ],
      "text/plain": [
       "       col1      col2      col3\n",
       "0  0.393095  0.559659 -0.226794\n",
       "1 -1.039872  0.309888  1.280371\n",
       "2  0.955168 -0.710642 -0.073768\n",
       "3 -0.980163 -1.457998  0.359291"
      ]
     },
     "execution_count": 2,
     "metadata": {},
     "output_type": "execute_result"
    }
   ],
   "source": [
    "df = pd.DataFrame(np.random.randn(4,3),columns=['col1','col2','col3'])\n",
    "df"
   ]
  },
  {
   "cell_type": "raw",
   "metadata": {},
   "source": [
    "iteritems() Function"
   ]
  },
  {
   "cell_type": "code",
   "execution_count": 3,
   "metadata": {},
   "outputs": [
    {
     "name": "stdout",
     "output_type": "stream",
     "text": [
      "('col1', 0    0.393095\n",
      "1   -1.039872\n",
      "2    0.955168\n",
      "3   -0.980163\n",
      "Name: col1, dtype: float64)\n",
      "('col2', 0    0.559659\n",
      "1    0.309888\n",
      "2   -0.710642\n",
      "3   -1.457998\n",
      "Name: col2, dtype: float64)\n",
      "('col3', 0   -0.226794\n",
      "1    1.280371\n",
      "2   -0.073768\n",
      "3    0.359291\n",
      "Name: col3, dtype: float64)\n"
     ]
    }
   ],
   "source": [
    "for x in df.iteritems():\n",
    "    print(x)"
   ]
  },
  {
   "cell_type": "code",
   "execution_count": 4,
   "metadata": {},
   "outputs": [
    {
     "name": "stdout",
     "output_type": "stream",
     "text": [
      "(0, 0.393095444875675)\n",
      "(1, -1.0398717501385715)\n",
      "(2, 0.955167507603082)\n",
      "(3, -0.9801630303256472)\n"
     ]
    }
   ],
   "source": [
    "for x in df['col1'].iteritems():\n",
    "    print(x)"
   ]
  },
  {
   "cell_type": "code",
   "execution_count": 5,
   "metadata": {},
   "outputs": [
    {
     "name": "stdout",
     "output_type": "stream",
     "text": [
      "('col1', 0.955167507603082)\n",
      "('col2', -0.7106421088097107)\n",
      "('col3', -0.07376834568616886)\n"
     ]
    }
   ],
   "source": [
    "for x in df.iloc[2].iteritems():\n",
    "    print(x)"
   ]
  },
  {
   "cell_type": "code",
   "execution_count": 6,
   "metadata": {},
   "outputs": [
    {
     "data": {
      "text/html": [
       "<div>\n",
       "<style scoped>\n",
       "    .dataframe tbody tr th:only-of-type {\n",
       "        vertical-align: middle;\n",
       "    }\n",
       "\n",
       "    .dataframe tbody tr th {\n",
       "        vertical-align: top;\n",
       "    }\n",
       "\n",
       "    .dataframe thead th {\n",
       "        text-align: right;\n",
       "    }\n",
       "</style>\n",
       "<table border=\"1\" class=\"dataframe\">\n",
       "  <thead>\n",
       "    <tr style=\"text-align: right;\">\n",
       "      <th></th>\n",
       "      <th>col1</th>\n",
       "      <th>col2</th>\n",
       "      <th>col3</th>\n",
       "    </tr>\n",
       "  </thead>\n",
       "  <tbody>\n",
       "    <tr>\n",
       "      <th>0</th>\n",
       "      <td>0.393095</td>\n",
       "      <td>0.559659</td>\n",
       "      <td>-0.226794</td>\n",
       "    </tr>\n",
       "    <tr>\n",
       "      <th>1</th>\n",
       "      <td>-1.039872</td>\n",
       "      <td>0.309888</td>\n",
       "      <td>1.280371</td>\n",
       "    </tr>\n",
       "    <tr>\n",
       "      <th>2</th>\n",
       "      <td>0.955168</td>\n",
       "      <td>-0.710642</td>\n",
       "      <td>-0.073768</td>\n",
       "    </tr>\n",
       "    <tr>\n",
       "      <th>3</th>\n",
       "      <td>-0.980163</td>\n",
       "      <td>-1.457998</td>\n",
       "      <td>0.359291</td>\n",
       "    </tr>\n",
       "  </tbody>\n",
       "</table>\n",
       "</div>"
      ],
      "text/plain": [
       "       col1      col2      col3\n",
       "0  0.393095  0.559659 -0.226794\n",
       "1 -1.039872  0.309888  1.280371\n",
       "2  0.955168 -0.710642 -0.073768\n",
       "3 -0.980163 -1.457998  0.359291"
      ]
     },
     "execution_count": 6,
     "metadata": {},
     "output_type": "execute_result"
    }
   ],
   "source": [
    "df"
   ]
  },
  {
   "cell_type": "code",
   "execution_count": 7,
   "metadata": {},
   "outputs": [
    {
     "name": "stdout",
     "output_type": "stream",
     "text": [
      "('col2', 2   -0.710642\n",
      "Name: col2, dtype: float64)\n"
     ]
    }
   ],
   "source": [
    "for x in df.iloc[[2],[1]].iteritems():\n",
    "    print(x)"
   ]
  },
  {
   "cell_type": "code",
   "execution_count": 8,
   "metadata": {},
   "outputs": [
    {
     "data": {
      "text/plain": [
       "-0.7106421088097107"
      ]
     },
     "execution_count": 8,
     "metadata": {},
     "output_type": "execute_result"
    }
   ],
   "source": [
    "df.iloc[2][1]"
   ]
  },
  {
   "cell_type": "code",
   "execution_count": 9,
   "metadata": {},
   "outputs": [
    {
     "name": "stdout",
     "output_type": "stream",
     "text": [
      "('col1', 2    0.955168\n",
      "Name: col1, dtype: float64)\n",
      "('col2', 2   -0.710642\n",
      "Name: col2, dtype: float64)\n"
     ]
    }
   ],
   "source": [
    "for x in df.iloc[[2],[0,1]].iteritems():\n",
    "    print(x)"
   ]
  },
  {
   "cell_type": "code",
   "execution_count": 10,
   "metadata": {},
   "outputs": [
    {
     "data": {
      "text/html": [
       "<div>\n",
       "<style scoped>\n",
       "    .dataframe tbody tr th:only-of-type {\n",
       "        vertical-align: middle;\n",
       "    }\n",
       "\n",
       "    .dataframe tbody tr th {\n",
       "        vertical-align: top;\n",
       "    }\n",
       "\n",
       "    .dataframe thead th {\n",
       "        text-align: right;\n",
       "    }\n",
       "</style>\n",
       "<table border=\"1\" class=\"dataframe\">\n",
       "  <thead>\n",
       "    <tr style=\"text-align: right;\">\n",
       "      <th></th>\n",
       "      <th>col1</th>\n",
       "      <th>col2</th>\n",
       "      <th>col3</th>\n",
       "    </tr>\n",
       "  </thead>\n",
       "  <tbody>\n",
       "    <tr>\n",
       "      <th>0</th>\n",
       "      <td>0.393095</td>\n",
       "      <td>0.559659</td>\n",
       "      <td>-0.226794</td>\n",
       "    </tr>\n",
       "    <tr>\n",
       "      <th>1</th>\n",
       "      <td>-1.039872</td>\n",
       "      <td>0.309888</td>\n",
       "      <td>1.280371</td>\n",
       "    </tr>\n",
       "    <tr>\n",
       "      <th>2</th>\n",
       "      <td>0.955168</td>\n",
       "      <td>-0.710642</td>\n",
       "      <td>-0.073768</td>\n",
       "    </tr>\n",
       "    <tr>\n",
       "      <th>3</th>\n",
       "      <td>-0.980163</td>\n",
       "      <td>-1.457998</td>\n",
       "      <td>0.359291</td>\n",
       "    </tr>\n",
       "  </tbody>\n",
       "</table>\n",
       "</div>"
      ],
      "text/plain": [
       "       col1      col2      col3\n",
       "0  0.393095  0.559659 -0.226794\n",
       "1 -1.039872  0.309888  1.280371\n",
       "2  0.955168 -0.710642 -0.073768\n",
       "3 -0.980163 -1.457998  0.359291"
      ]
     },
     "execution_count": 10,
     "metadata": {},
     "output_type": "execute_result"
    }
   ],
   "source": [
    "df"
   ]
  },
  {
   "cell_type": "raw",
   "metadata": {},
   "source": [
    "iterrows Function()"
   ]
  },
  {
   "cell_type": "code",
   "execution_count": 11,
   "metadata": {},
   "outputs": [
    {
     "data": {
      "text/html": [
       "<div>\n",
       "<style scoped>\n",
       "    .dataframe tbody tr th:only-of-type {\n",
       "        vertical-align: middle;\n",
       "    }\n",
       "\n",
       "    .dataframe tbody tr th {\n",
       "        vertical-align: top;\n",
       "    }\n",
       "\n",
       "    .dataframe thead th {\n",
       "        text-align: right;\n",
       "    }\n",
       "</style>\n",
       "<table border=\"1\" class=\"dataframe\">\n",
       "  <thead>\n",
       "    <tr style=\"text-align: right;\">\n",
       "      <th></th>\n",
       "      <th>col1</th>\n",
       "      <th>col2</th>\n",
       "      <th>col3</th>\n",
       "    </tr>\n",
       "  </thead>\n",
       "  <tbody>\n",
       "    <tr>\n",
       "      <th>0</th>\n",
       "      <td>0.393095</td>\n",
       "      <td>0.559659</td>\n",
       "      <td>-0.226794</td>\n",
       "    </tr>\n",
       "    <tr>\n",
       "      <th>1</th>\n",
       "      <td>-1.039872</td>\n",
       "      <td>0.309888</td>\n",
       "      <td>1.280371</td>\n",
       "    </tr>\n",
       "    <tr>\n",
       "      <th>2</th>\n",
       "      <td>0.955168</td>\n",
       "      <td>-0.710642</td>\n",
       "      <td>-0.073768</td>\n",
       "    </tr>\n",
       "    <tr>\n",
       "      <th>3</th>\n",
       "      <td>-0.980163</td>\n",
       "      <td>-1.457998</td>\n",
       "      <td>0.359291</td>\n",
       "    </tr>\n",
       "  </tbody>\n",
       "</table>\n",
       "</div>"
      ],
      "text/plain": [
       "       col1      col2      col3\n",
       "0  0.393095  0.559659 -0.226794\n",
       "1 -1.039872  0.309888  1.280371\n",
       "2  0.955168 -0.710642 -0.073768\n",
       "3 -0.980163 -1.457998  0.359291"
      ]
     },
     "execution_count": 11,
     "metadata": {},
     "output_type": "execute_result"
    }
   ],
   "source": [
    "df"
   ]
  },
  {
   "cell_type": "code",
   "execution_count": 12,
   "metadata": {},
   "outputs": [
    {
     "name": "stdout",
     "output_type": "stream",
     "text": [
      "0 col1    0.393095\n",
      "col2    0.559659\n",
      "col3   -0.226794\n",
      "Name: 0, dtype: float64\n",
      "1 col1   -1.039872\n",
      "col2    0.309888\n",
      "col3    1.280371\n",
      "Name: 1, dtype: float64\n",
      "2 col1    0.955168\n",
      "col2   -0.710642\n",
      "col3   -0.073768\n",
      "Name: 2, dtype: float64\n",
      "3 col1   -0.980163\n",
      "col2   -1.457998\n",
      "col3    0.359291\n",
      "Name: 3, dtype: float64\n"
     ]
    }
   ],
   "source": [
    "for ri, r in df.iterrows():\n",
    "    print(ri,r)"
   ]
  },
  {
   "cell_type": "code",
   "execution_count": 13,
   "metadata": {},
   "outputs": [
    {
     "name": "stdout",
     "output_type": "stream",
     "text": [
      "(0, col1    0.393095\n",
      "col2    0.559659\n",
      "col3   -0.226794\n",
      "Name: 0, dtype: float64)\n",
      "(1, col1   -1.039872\n",
      "col2    0.309888\n",
      "col3    1.280371\n",
      "Name: 1, dtype: float64)\n",
      "(2, col1    0.955168\n",
      "col2   -0.710642\n",
      "col3   -0.073768\n",
      "Name: 2, dtype: float64)\n",
      "(3, col1   -0.980163\n",
      "col2   -1.457998\n",
      "col3    0.359291\n",
      "Name: 3, dtype: float64)\n"
     ]
    }
   ],
   "source": [
    "for r in df.iterrows():\n",
    "    print(r)"
   ]
  },
  {
   "cell_type": "code",
   "execution_count": 14,
   "metadata": {},
   "outputs": [
    {
     "name": "stdout",
     "output_type": "stream",
     "text": [
      "Pandas(Index=0, col1=0.393095444875675, col2=0.5596594661860663, col3=-0.22679418645580493)\n",
      "Pandas(Index=1, col1=-1.0398717501385715, col2=0.3098883354440092, col3=1.28037058272679)\n",
      "Pandas(Index=2, col1=0.955167507603082, col2=-0.7106421088097107, col3=-0.07376834568616886)\n",
      "Pandas(Index=3, col1=-0.9801630303256472, col2=-1.4579981598372649, col3=0.35929079465721725)\n"
     ]
    }
   ],
   "source": [
    "for row in df.itertuples():\n",
    "    print(row)"
   ]
  },
  {
   "cell_type": "code",
   "execution_count": null,
   "metadata": {},
   "outputs": [],
   "source": []
  }
 ],
 "metadata": {
  "kernelspec": {
   "display_name": "Python 3",
   "language": "python",
   "name": "python3"
  },
  "language_info": {
   "codemirror_mode": {
    "name": "ipython",
    "version": 3
   },
   "file_extension": ".py",
   "mimetype": "text/x-python",
   "name": "python",
   "nbconvert_exporter": "python",
   "pygments_lexer": "ipython3",
   "version": "3.7.6"
  }
 },
 "nbformat": 4,
 "nbformat_minor": 4
}
